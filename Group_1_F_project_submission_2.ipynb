{
 "cells": [
  {
   "cell_type": "markdown",
   "metadata": {},
   "source": [
    "# Group Work Project, Submission 2\n",
    "\n",
    "Date: 11-05-2018\n",
    "\n",
    "MScFE 650: Machine Learning in Finance\n",
    "\n",
    "**Submitted by:** Group 1 F\n"
   ]
  },
  {
   "cell_type": "markdown",
   "metadata": {},
   "source": [
    "### The following Python libraries are used\n",
    ">*   numpy 1.14.3\n",
    "*   pandas 0.23.0\n",
    "*   matplotlib 2.2.2\n",
    "*   seaborn 0.8.1\n",
    "*   scipy 1.1.0\n",
    "*   statsmodels 0.9.0"
   ]
  },
  {
   "cell_type": "markdown",
   "metadata": {},
   "source": [
    "### *** About the Data (bitstampUSD) ***\n",
    "> 1. time_stamp (in unix time)\n",
    "> 2. volume (BTC) - Volume of BTC transacted \n",
    "> 3. price (Currency)- Bitcoin price in Currency units \n",
    "> 4. data collected over 21 days starts from 28th September 2018 to 18th October 2018"
   ]
  },
  {
   "cell_type": "markdown",
   "metadata": {},
   "source": [
    "### *** Reference:***\n",
    "> 1.\tLópez de Prado, Marcos. (2018).  Advances in Financial Machine Learning. 1st Edition. New Jersey: Wiley.\n",
    "> 2.\tRogers, S. and M. Girolami (2015). A first course in machine learning. 2nd Edition. CRC Press. \n"
   ]
  },
  {
   "cell_type": "code",
   "execution_count": 174,
   "metadata": {},
   "outputs": [],
   "source": [
    "import numpy as np\n",
    "import pandas as pd\n",
    "import os\n",
    "import matplotlib.pyplot as plt\n",
    "import seaborn as sns\n",
    "%matplotlib inline\n",
    "import warnings\n",
    "warnings.filterwarnings('ignore')\n",
    "from scipy import stats\n",
    "from statsmodels.graphics.tsaplots import plot_acf"
   ]
  },
  {
   "cell_type": "markdown",
   "metadata": {},
   "source": [
    "<font color='black'>\n",
    "### Questions \n",
    "<br>\n",
    "** In this section students need to decide which features are helpful in predicting the target\n",
    "variable – for example, serial correlation, momentum, technical analysis indicators (such as\n",
    "RSI), and signals from trend-following strategies (such as the moving average crossover). **\n",
    "    "
   ]
  },
  {
   "cell_type": "markdown",
   "metadata": {},
   "source": [
    "<font color='black'>\n",
    "  \n",
    "Part 1:\n",
    "====================================================================================================================== <br>\n",
    ">** Select at least four explanatory variables and perform the necessary transformations\n",
    "so that they are useful in the model phase. You are encouraged to use more than four\n",
    "variables. Investigate feature engineering techniques such as PCA and encoding\n",
    "target variables using one-hot encoding.**  \n",
    "    \n",
    "======================================================================================================================"
   ]
  },
  {
   "cell_type": "markdown",
   "metadata": {},
   "source": [
    "<font color='black'>\n",
    "Part 2:\n",
    "====================================================================================================================== <br>\n",
    ">** Write a short paragraph about each technique investigated and show an\n",
    "implementation of it in a Jupyter Notebook. Make sure to include references that\n",
    "indicate where the ideas were sourced.**  \n",
    "    \n",
    "======================================================================================================================"
   ]
  },
  {
   "cell_type": "markdown",
   "metadata": {},
   "source": [
    "<font color='black'>\n",
    "Part 3:\n",
    "====================================================================================================================== <br>\n",
    ">** At this stage groups should take the opportunity to familiarize themselves with the\n",
    "cross-validation techniques for forecasting financial time series – for example,\n",
    "traditional k-fold cross-validation versus walk forward analysis, and Purged K-Fold\n",
    "CV. Write a short paragraph explaining each technique researched. Research at least\n",
    "three (they don’t have to be the 3 mentioned here).**  \n",
    "    \n",
    "======================================================================================================================"
   ]
  },
  {
   "cell_type": "markdown",
   "metadata": {},
   "source": [
    "<font color='black'>\n",
    "# Solutions\n",
    "    "
   ]
  },
  {
   "cell_type": "code",
   "execution_count": 175,
   "metadata": {},
   "outputs": [],
   "source": [
    "path = os.getcwd()\n",
    "data = pd.read_csv(path+'/tick_bars.csv')\n",
    "\n"
   ]
  },
  {
   "cell_type": "markdown",
   "metadata": {},
   "source": [
    "Explanatory variables\n",
    ">* open (price in dollars)\n",
    "* high (price in dollars)\n",
    "* low (price in dollars)\n",
    "* close (price in dollars)\n",
    "* volume\n",
    "* transaction (amount in dollars)\n",
    "* vwap (volumne weighted average price)"
   ]
  },
  {
   "cell_type": "markdown",
   "metadata": {},
   "source": [
    "##  Investigating features which are helpful in predicting"
   ]
  },
  {
   "cell_type": "markdown",
   "metadata": {},
   "source": [
    "<font color='blue'>\n",
    "The below technical indicators are based on some of the technical indicators used in Kara, Yakup, Melek Acar Boyacioglu, and Ömer Kaan Baykan. \"Predicting direction of stock price index movement using artificial neural networks and support vector machines: The sample of the Istanbul Stock Exchange.\" Expert Systems with Applications 38.5 (2011): 5311-5319."
   ]
  },
  {
   "cell_type": "markdown",
   "metadata": {},
   "source": [
    "<font color='blue'>\n",
    "**A.  Moving averages : ** Moving averages can help evens out these irregular movements by removing small period fluctuations so that trend is easier to see. Since moving average is about averaging the past price movements, moving averages are better for accurately reading past price movements not good for predicting future past movements. \n",
    "\n",
    "\n",
    "1. Simple Moving Average: It averages prices over a period of time, calculated by adding adjacent closing prices and then dividing that by the number of time periods in the calculation average.\n",
    " \n",
    "Read more: Technical Analysis: Moving Averages https://www.investopedia.com/university/technical/techanalysis9.asp#ixzz5V69dzQGf \n",
    "\n",
    "\n",
    "2. Exponential moving average: The exponential moving average uses little more complex process to smooth data and place a higher weight on more recent data points. \n",
    "\n",
    "Read more: Technical Analysis: Moving Averages https://www.investopedia.com/university/technical/techanalysis9.asp#ixzz5V6AIP1DM \n"
   ]
  },
  {
   "cell_type": "markdown",
   "metadata": {},
   "source": [
    "<font color='blue'>\n",
    "    \n",
    "**B. Momentum :** It is the measurement of the speed at which price changes. Momentum measures the rate of the rise or fall in stock prices. Momentum is a very useful indicator of strength or weakness in the stock’s price in the market. While looking into stocks historical performance we can observe  that stocks with strong past performance continue to outperform stocks with poor past performance in the next period.\n",
    "\n",
    "Read more: Understanding Momentum Indicators and RSI | Investopedia https://www.investopedia.com/investing/momentum-and-relative-strength-index/#ixzz5V6E9QXN2 "
   ]
  },
  {
   "cell_type": "markdown",
   "metadata": {},
   "source": [
    "<font color='blue'>\n",
    "**C. Relative Strength Index :** The relative strength index (RSI) is widely used in technical analysis. The is used to identify overbought and oversold conditions in a security with a range between 0 (oversold) and 100 (overbought). A value above 70 implies that a security is overbought, while a reading below 30 implies that a security is oversold. This is also used by traders to determine if the price has been pushed to unreasonably higher or low levels after a snap market reaction to news.\n",
    "    \n",
    "Read more: Technical Analysis: Indicators And Oscillators https://www.investopedia.com/university/technical/techanalysis10.asp#ixzz5V6CkCxSp \n"
   ]
  },
  {
   "cell_type": "markdown",
   "metadata": {},
   "source": [
    "<font color='blue'>\n",
    "**D. Moving Average Convergence/Divergence:** The moving average convergence-divergence (MACD) is very well-known indicators in technical analysis. The MACD series is the difference between a \"fast\" (short period) exponential moving average and a \"slow\" (longer period) exponential moving average of stock prices.\n",
    "\n",
    "Read more: Technical Analysis: Indicators And Oscillators https://www.investopedia.com/university/technical/techanalysis10.asp#ixzz5V6D4s1q3 \n"
   ]
  },
  {
   "cell_type": "markdown",
   "metadata": {},
   "source": [
    "<font color='blue'>\n",
    "** E. The 'Commodity Channel Index - CCI': ** The Commodity Channel Index (CCI) is a momentum-based technique to determine whether an investment vehicle is reached a condition of being overbought or oversold. It is calculated as the difference between the typical price of a commodity and its simple moving average, divided by the mean absolute deviation of the typical price. This indicator typically oscillates above and below a zero line in the range of +100 and −100. Readings above +100 imply an overbought condition and  readings below −100 imply an oversold condition.\n",
    "    \n",
    "\n",
    "Read more: Commodity Channel Index (CCI) https://www.investopedia.com/terms/c/commoditychannelindex.asp#ixzz5V6EZT5GH \n"
   ]
  },
  {
   "cell_type": "markdown",
   "metadata": {},
   "source": [
    "<font color='blue'>\n",
    "# Implementation"
   ]
  },
  {
   "cell_type": "markdown",
   "metadata": {},
   "source": [
    "<font color='blue'>"
   ]
  },
  {
   "cell_type": "code",
   "execution_count": 176,
   "metadata": {},
   "outputs": [],
   "source": [
    "#Moving Average  \n",
    "def MA(df, n):  \n",
    "    r = df.rolling(window=n)\n",
    "    MA = pd.Series(r['close'].mean(), name = 'ma_' + str(n))  \n",
    "    df = df.join(MA)  \n",
    "    return df"
   ]
  },
  {
   "cell_type": "code",
   "execution_count": 177,
   "metadata": {},
   "outputs": [],
   "source": [
    "data = MA(data, 14)"
   ]
  },
  {
   "cell_type": "code",
   "execution_count": 178,
   "metadata": {},
   "outputs": [],
   "source": [
    "#Exponential Moving Average  \n",
    "def EMA(df, n):  \n",
    "    \n",
    "    EMA = pd.Series(df['close'].ewm(span=n).mean(), name = 'ema_' + str(n))  \n",
    "    df = df.join(EMA)  \n",
    "    return df"
   ]
  },
  {
   "cell_type": "code",
   "execution_count": 179,
   "metadata": {},
   "outputs": [],
   "source": [
    "data = EMA(data, 14)"
   ]
  },
  {
   "cell_type": "code",
   "execution_count": 180,
   "metadata": {},
   "outputs": [],
   "source": [
    "#Momentum  \n",
    "def MOM(df, n):  \n",
    "    M = pd.Series(df['close'].diff(n), name = 'momentum_' + str(n))  \n",
    "    df = df.join(M)  \n",
    "    return df"
   ]
  },
  {
   "cell_type": "code",
   "execution_count": 181,
   "metadata": {},
   "outputs": [],
   "source": [
    "data = MOM(data, 14)"
   ]
  },
  {
   "cell_type": "code",
   "execution_count": 182,
   "metadata": {},
   "outputs": [],
   "source": [
    "#Relative Strength Index  \n",
    "def RSI(df, n):  \n",
    "    i = 0  \n",
    "    UpI = [0]  \n",
    "    DoI = [0]  \n",
    "    while i  < df['close'].count()-1:\n",
    "        UpMove = df['high'].iat[i + 1] - df['high'].iat[i]\n",
    "        DoMove = df['low'].iat[i] - df['low'].iat[i + 1]  \n",
    "        if UpMove > DoMove and UpMove > 0:  \n",
    "            UpD = UpMove  \n",
    "        else: UpD = 0  \n",
    "        UpI.append(UpD)  \n",
    "        if DoMove > UpMove and DoMove > 0:  \n",
    "            DoD = DoMove  \n",
    "        else: DoD = 0  \n",
    "        DoI.append(DoD)  \n",
    "        i = i + 1  \n",
    "    UpI = pd.Series(UpI)  \n",
    "    DoI = pd.Series(DoI) \n",
    "    \n",
    "    PosDI = pd.Series(UpI.ewm(span=n,min_periods = n - 1).mean())  \n",
    "    NegDI = pd.Series(DoI.ewm(span=n,min_periods = n - 1).mean())  \n",
    "    RSI = pd.Series(PosDI / (PosDI + NegDI), name = 'rsi_' + str(n))  *100\n",
    "    df = df.join(RSI)  \n",
    "    \n",
    "    return df"
   ]
  },
  {
   "cell_type": "code",
   "execution_count": 183,
   "metadata": {},
   "outputs": [],
   "source": [
    "data = RSI(data, 14)"
   ]
  },
  {
   "cell_type": "markdown",
   "metadata": {},
   "source": [
    "##  Feature Engineering Techniques\n",
    "### **1. Principal Components Analysis (PCA)**"
   ]
  },
  {
   "cell_type": "code",
   "execution_count": 184,
   "metadata": {},
   "outputs": [],
   "source": [
    "data = data.dropna()\n",
    "data = data.drop(['time_stamp'], axis=1)"
   ]
  },
  {
   "cell_type": "code",
   "execution_count": 185,
   "metadata": {},
   "outputs": [
    {
     "data": {
      "text/html": [
       "<div>\n",
       "<style scoped>\n",
       "    .dataframe tbody tr th:only-of-type {\n",
       "        vertical-align: middle;\n",
       "    }\n",
       "\n",
       "    .dataframe tbody tr th {\n",
       "        vertical-align: top;\n",
       "    }\n",
       "\n",
       "    .dataframe thead th {\n",
       "        text-align: right;\n",
       "    }\n",
       "</style>\n",
       "<table border=\"1\" class=\"dataframe\">\n",
       "  <thead>\n",
       "    <tr style=\"text-align: right;\">\n",
       "      <th></th>\n",
       "      <th>open</th>\n",
       "      <th>high</th>\n",
       "      <th>low</th>\n",
       "      <th>close</th>\n",
       "      <th>volume</th>\n",
       "      <th>transaction</th>\n",
       "      <th>vwap</th>\n",
       "      <th>ma_14</th>\n",
       "      <th>ema_14</th>\n",
       "      <th>momentum_14</th>\n",
       "      <th>rsi_14</th>\n",
       "    </tr>\n",
       "  </thead>\n",
       "  <tbody>\n",
       "    <tr>\n",
       "      <th>14</th>\n",
       "      <td>8163.80</td>\n",
       "      <td>8166.53</td>\n",
       "      <td>8152.11</td>\n",
       "      <td>8162.98</td>\n",
       "      <td>32.177927</td>\n",
       "      <td>262587.493609</td>\n",
       "      <td>8160.485164</td>\n",
       "      <td>8191.561429</td>\n",
       "      <td>8181.441392</td>\n",
       "      <td>-34.26</td>\n",
       "      <td>16.345113</td>\n",
       "    </tr>\n",
       "    <tr>\n",
       "      <th>15</th>\n",
       "      <td>8162.98</td>\n",
       "      <td>8182.39</td>\n",
       "      <td>8151.85</td>\n",
       "      <td>8182.38</td>\n",
       "      <td>13.329065</td>\n",
       "      <td>108918.389913</td>\n",
       "      <td>8171.495358</td>\n",
       "      <td>8188.657143</td>\n",
       "      <td>8181.580647</td>\n",
       "      <td>-40.66</td>\n",
       "      <td>37.534222</td>\n",
       "    </tr>\n",
       "    <tr>\n",
       "      <th>16</th>\n",
       "      <td>8182.38</td>\n",
       "      <td>8190.20</td>\n",
       "      <td>8177.84</td>\n",
       "      <td>8188.50</td>\n",
       "      <td>4.025289</td>\n",
       "      <td>32941.082780</td>\n",
       "      <td>8183.532378</td>\n",
       "      <td>8185.692857</td>\n",
       "      <td>8182.592024</td>\n",
       "      <td>-41.50</td>\n",
       "      <td>45.393165</td>\n",
       "    </tr>\n",
       "    <tr>\n",
       "      <th>17</th>\n",
       "      <td>8193.53</td>\n",
       "      <td>8193.53</td>\n",
       "      <td>8174.23</td>\n",
       "      <td>8176.19</td>\n",
       "      <td>8.204944</td>\n",
       "      <td>67154.732148</td>\n",
       "      <td>8184.666886</td>\n",
       "      <td>8182.425714</td>\n",
       "      <td>8181.668119</td>\n",
       "      <td>-45.74</td>\n",
       "      <td>42.538789</td>\n",
       "    </tr>\n",
       "    <tr>\n",
       "      <th>18</th>\n",
       "      <td>8185.88</td>\n",
       "      <td>8185.88</td>\n",
       "      <td>8174.78</td>\n",
       "      <td>8177.17</td>\n",
       "      <td>3.310745</td>\n",
       "      <td>27079.690605</td>\n",
       "      <td>8179.334318</td>\n",
       "      <td>8179.938571</td>\n",
       "      <td>8181.026027</td>\n",
       "      <td>-34.82</td>\n",
       "      <td>42.538789</td>\n",
       "    </tr>\n",
       "  </tbody>\n",
       "</table>\n",
       "</div>"
      ],
      "text/plain": [
       "       open     high      low    close     volume    transaction         vwap  \\\n",
       "14  8163.80  8166.53  8152.11  8162.98  32.177927  262587.493609  8160.485164   \n",
       "15  8162.98  8182.39  8151.85  8182.38  13.329065  108918.389913  8171.495358   \n",
       "16  8182.38  8190.20  8177.84  8188.50   4.025289   32941.082780  8183.532378   \n",
       "17  8193.53  8193.53  8174.23  8176.19   8.204944   67154.732148  8184.666886   \n",
       "18  8185.88  8185.88  8174.78  8177.17   3.310745   27079.690605  8179.334318   \n",
       "\n",
       "          ma_14       ema_14  momentum_14     rsi_14  \n",
       "14  8191.561429  8181.441392       -34.26  16.345113  \n",
       "15  8188.657143  8181.580647       -40.66  37.534222  \n",
       "16  8185.692857  8182.592024       -41.50  45.393165  \n",
       "17  8182.425714  8181.668119       -45.74  42.538789  \n",
       "18  8179.938571  8181.026027       -34.82  42.538789  "
      ]
     },
     "execution_count": 185,
     "metadata": {},
     "output_type": "execute_result"
    }
   ],
   "source": [
    "data.head()"
   ]
  },
  {
   "cell_type": "code",
   "execution_count": 186,
   "metadata": {},
   "outputs": [],
   "source": [
    "from sklearn.decomposition import PCA"
   ]
  },
  {
   "cell_type": "code",
   "execution_count": 187,
   "metadata": {},
   "outputs": [],
   "source": [
    "pca = PCA(n_components=4)\n",
    "pca.fit(data)\n",
    "pca_data = pca.transform(data) "
   ]
  },
  {
   "cell_type": "code",
   "execution_count": 188,
   "metadata": {},
   "outputs": [
    {
     "name": "stdout",
     "output_type": "stream",
     "text": [
      "Percentage of variance explained by each of the selected components:\n",
      "    by component- 1  explained variance in percentage  99.973\n",
      "    by component- 2  explained variance in percentage  0.027\n",
      "    by component- 3  explained variance in percentage  0.0\n",
      "    by component- 4  explained variance in percentage  0.0\n"
     ]
    }
   ],
   "source": [
    "print(\"Percentage of variance explained by each of the selected components:\")\n",
    "for i in list(pca.explained_variance_ratio_):\n",
    "    print (\"    by component-\",list(pca.explained_variance_ratio_).index(i)+1, \" explained variance in percentage \", round(i*100,3))"
   ]
  },
  {
   "cell_type": "code",
   "execution_count": 189,
   "metadata": {},
   "outputs": [
    {
     "data": {
      "image/png": "[encoded data removed]",
      "text/plain": [
       "<Figure size 432x288 with 1 Axes>"
      ]
     },
     "metadata": {},
     "output_type": "display_data"
    }
   ],
   "source": [
    "plt.plot(range(0, 4), pca.explained_variance_ratio_)\n",
    "plt.ylabel('Explained Variance')\n",
    "plt.xlabel('Principal Components')\n",
    "plt.title('Explained Variance Ratio')\n",
    "plt.show()"
   ]
  },
  {
   "cell_type": "markdown",
   "metadata": {},
   "source": [
    "<font color='blue'>\n",
    "** write-up **\n",
    "    \n",
    "> ** PCA :** It is a technique used for identify a smaller number of uncorrelated variables known as principal components from a larger set of data. Mostly used in data dimensionality reduction. It is very useful in fields such as image compression, face recognition and computer graphics. It is a non-parametric technique for extracting information from complex and large dimensional data sets\n",
    "\n",
    "<img src=\"https://s3.amazonaws.com/aq-web-library/4.png\" height=\"200\" width=\"200\">\n",
    "\n",
    "Source: https://www.kdnuggets.com/2016/06/nutrition-principal-component-analysis-tutorial.html"
   ]
  },
  {
   "cell_type": "markdown",
   "metadata": {},
   "source": [
    "### **2. Standard Scaler **"
   ]
  },
  {
   "cell_type": "code",
   "execution_count": 190,
   "metadata": {},
   "outputs": [],
   "source": [
    "from sklearn.preprocessing import StandardScaler"
   ]
  },
  {
   "cell_type": "code",
   "execution_count": 191,
   "metadata": {},
   "outputs": [],
   "source": [
    "scaler = StandardScaler()\n",
    "scaler_data = scaler.fit_transform(data)"
   ]
  },
  {
   "cell_type": "code",
   "execution_count": 192,
   "metadata": {},
   "outputs": [
    {
     "data": {
      "text/html": [
       "<div>\n",
       "<style scoped>\n",
       "    .dataframe tbody tr th:only-of-type {\n",
       "        vertical-align: middle;\n",
       "    }\n",
       "\n",
       "    .dataframe tbody tr th {\n",
       "        vertical-align: top;\n",
       "    }\n",
       "\n",
       "    .dataframe thead th {\n",
       "        text-align: right;\n",
       "    }\n",
       "</style>\n",
       "<table border=\"1\" class=\"dataframe\">\n",
       "  <thead>\n",
       "    <tr style=\"text-align: right;\">\n",
       "      <th></th>\n",
       "      <th>open</th>\n",
       "      <th>high</th>\n",
       "      <th>low</th>\n",
       "      <th>close</th>\n",
       "      <th>volume</th>\n",
       "      <th>transaction</th>\n",
       "      <th>vwap</th>\n",
       "      <th>ma_14</th>\n",
       "      <th>ema_14</th>\n",
       "      <th>momentum_14</th>\n",
       "      <th>rsi_14</th>\n",
       "    </tr>\n",
       "  </thead>\n",
       "  <tbody>\n",
       "    <tr>\n",
       "      <th>0</th>\n",
       "      <td>1.783758</td>\n",
       "      <td>1.780228</td>\n",
       "      <td>1.774958</td>\n",
       "      <td>1.782940</td>\n",
       "      <td>0.995736</td>\n",
       "      <td>1.393305</td>\n",
       "      <td>1.779505</td>\n",
       "      <td>1.823362</td>\n",
       "      <td>1.808493</td>\n",
       "      <td>-0.814191</td>\n",
       "      <td>-1.601540</td>\n",
       "    </tr>\n",
       "    <tr>\n",
       "      <th>1</th>\n",
       "      <td>1.782532</td>\n",
       "      <td>1.803968</td>\n",
       "      <td>1.774569</td>\n",
       "      <td>1.811951</td>\n",
       "      <td>-0.186558</td>\n",
       "      <td>-0.027976</td>\n",
       "      <td>1.795969</td>\n",
       "      <td>1.819021</td>\n",
       "      <td>1.808701</td>\n",
       "      <td>-0.975620</td>\n",
       "      <td>-0.538161</td>\n",
       "    </tr>\n",
       "    <tr>\n",
       "      <th>2</th>\n",
       "      <td>1.811539</td>\n",
       "      <td>1.815658</td>\n",
       "      <td>1.813398</td>\n",
       "      <td>1.821102</td>\n",
       "      <td>-0.770137</td>\n",
       "      <td>-0.730688</td>\n",
       "      <td>1.813969</td>\n",
       "      <td>1.814591</td>\n",
       "      <td>1.810213</td>\n",
       "      <td>-0.996808</td>\n",
       "      <td>-0.143758</td>\n",
       "    </tr>\n",
       "    <tr>\n",
       "      <th>3</th>\n",
       "      <td>1.828211</td>\n",
       "      <td>1.820643</td>\n",
       "      <td>1.808005</td>\n",
       "      <td>1.802694</td>\n",
       "      <td>-0.507969</td>\n",
       "      <td>-0.414247</td>\n",
       "      <td>1.815665</td>\n",
       "      <td>1.809708</td>\n",
       "      <td>1.808832</td>\n",
       "      <td>-1.103755</td>\n",
       "      <td>-0.287006</td>\n",
       "    </tr>\n",
       "    <tr>\n",
       "      <th>4</th>\n",
       "      <td>1.816772</td>\n",
       "      <td>1.809192</td>\n",
       "      <td>1.808826</td>\n",
       "      <td>1.804160</td>\n",
       "      <td>-0.814957</td>\n",
       "      <td>-0.784900</td>\n",
       "      <td>1.807691</td>\n",
       "      <td>1.805990</td>\n",
       "      <td>1.807872</td>\n",
       "      <td>-0.828316</td>\n",
       "      <td>-0.287006</td>\n",
       "    </tr>\n",
       "  </tbody>\n",
       "</table>\n",
       "</div>"
      ],
      "text/plain": [
       "       open      high       low     close    volume  transaction      vwap  \\\n",
       "0  1.783758  1.780228  1.774958  1.782940  0.995736     1.393305  1.779505   \n",
       "1  1.782532  1.803968  1.774569  1.811951 -0.186558    -0.027976  1.795969   \n",
       "2  1.811539  1.815658  1.813398  1.821102 -0.770137    -0.730688  1.813969   \n",
       "3  1.828211  1.820643  1.808005  1.802694 -0.507969    -0.414247  1.815665   \n",
       "4  1.816772  1.809192  1.808826  1.804160 -0.814957    -0.784900  1.807691   \n",
       "\n",
       "      ma_14    ema_14  momentum_14    rsi_14  \n",
       "0  1.823362  1.808493    -0.814191 -1.601540  \n",
       "1  1.819021  1.808701    -0.975620 -0.538161  \n",
       "2  1.814591  1.810213    -0.996808 -0.143758  \n",
       "3  1.809708  1.808832    -1.103755 -0.287006  \n",
       "4  1.805990  1.807872    -0.828316 -0.287006  "
      ]
     },
     "execution_count": 192,
     "metadata": {},
     "output_type": "execute_result"
    }
   ],
   "source": [
    "scaler_data = pd.DataFrame(scaler_data,columns = data.columns)\n",
    "scaler_data.head()"
   ]
  },
  {
   "cell_type": "markdown",
   "metadata": {},
   "source": [
    "<font color='blue'>\n",
    "** write-up **\n",
    "    \n",
    "> ** Standard Scaler :** Centering and scaling on each feature using two statistics of those feature - Mean and standard deviation. It is common requirement for many machine learning algorithms as it would be very helpful in optimization of output of algorithm\n",
    "\n",
    "Standard Scaling steps\n",
    "* It sets the mean of the data to 0, and the standard deviation to 1\n",
    "* Subtracting the mean value from feature value, and divides by standard deviation\n",
    "* The Scikit-learn sklearn.preprocessing.StandardScaler module is used for such an implementation\n",
    "<img src=\"https://s3.amazonaws.com/aq-web-library/3.jpg\" height=\"150\" width=\"150\">\n",
    "\n",
    "<img src=\"https://s3.amazonaws.com/aq-web-library/2.png\" height=\"300\" width=\"600\">\n",
    "Source: https://leonardoaraujosantos.gitbooks.io/artificial-inteligence/content/feature_scaling.html"
   ]
  },
  {
   "cell_type": "markdown",
   "metadata": {},
   "source": [
    "### **3. One-Hot Encoding **"
   ]
  },
  {
   "cell_type": "code",
   "execution_count": 193,
   "metadata": {},
   "outputs": [
    {
     "data": {
      "text/html": [
       "<div>\n",
       "<style scoped>\n",
       "    .dataframe tbody tr th:only-of-type {\n",
       "        vertical-align: middle;\n",
       "    }\n",
       "\n",
       "    .dataframe tbody tr th {\n",
       "        vertical-align: top;\n",
       "    }\n",
       "\n",
       "    .dataframe thead th {\n",
       "        text-align: right;\n",
       "    }\n",
       "</style>\n",
       "<table border=\"1\" class=\"dataframe\">\n",
       "  <thead>\n",
       "    <tr style=\"text-align: right;\">\n",
       "      <th></th>\n",
       "      <th>close</th>\n",
       "    </tr>\n",
       "  </thead>\n",
       "  <tbody>\n",
       "    <tr>\n",
       "      <th>15</th>\n",
       "      <td>1.0</td>\n",
       "    </tr>\n",
       "    <tr>\n",
       "      <th>16</th>\n",
       "      <td>1.0</td>\n",
       "    </tr>\n",
       "    <tr>\n",
       "      <th>17</th>\n",
       "      <td>0.0</td>\n",
       "    </tr>\n",
       "    <tr>\n",
       "      <th>18</th>\n",
       "      <td>1.0</td>\n",
       "    </tr>\n",
       "    <tr>\n",
       "      <th>19</th>\n",
       "      <td>0.0</td>\n",
       "    </tr>\n",
       "  </tbody>\n",
       "</table>\n",
       "</div>"
      ],
      "text/plain": [
       "    close\n",
       "15    1.0\n",
       "16    1.0\n",
       "17    0.0\n",
       "18    1.0\n",
       "19    0.0"
      ]
     },
     "execution_count": 193,
     "metadata": {},
     "output_type": "execute_result"
    }
   ],
   "source": [
    "data_target_encoding = data[['close']].diff().dropna()\n",
    "data_target_encoding['close'][data_target_encoding['close']<=0] = 0\n",
    "data_target_encoding['close'][data_target_encoding['close'] > 0] = 1\n",
    "data_target_encoding.head()"
   ]
  },
  {
   "cell_type": "code",
   "execution_count": 194,
   "metadata": {},
   "outputs": [
    {
     "data": {
      "text/html": [
       "<div>\n",
       "<style scoped>\n",
       "    .dataframe tbody tr th:only-of-type {\n",
       "        vertical-align: middle;\n",
       "    }\n",
       "\n",
       "    .dataframe tbody tr th {\n",
       "        vertical-align: top;\n",
       "    }\n",
       "\n",
       "    .dataframe thead th {\n",
       "        text-align: right;\n",
       "    }\n",
       "</style>\n",
       "<table border=\"1\" class=\"dataframe\">\n",
       "  <thead>\n",
       "    <tr style=\"text-align: right;\">\n",
       "      <th></th>\n",
       "      <th>decreased</th>\n",
       "      <th>increased</th>\n",
       "    </tr>\n",
       "  </thead>\n",
       "  <tbody>\n",
       "    <tr>\n",
       "      <th>15</th>\n",
       "      <td>0</td>\n",
       "      <td>1</td>\n",
       "    </tr>\n",
       "    <tr>\n",
       "      <th>16</th>\n",
       "      <td>0</td>\n",
       "      <td>1</td>\n",
       "    </tr>\n",
       "    <tr>\n",
       "      <th>17</th>\n",
       "      <td>0</td>\n",
       "      <td>1</td>\n",
       "    </tr>\n",
       "    <tr>\n",
       "      <th>18</th>\n",
       "      <td>1</td>\n",
       "      <td>0</td>\n",
       "    </tr>\n",
       "    <tr>\n",
       "      <th>19</th>\n",
       "      <td>1</td>\n",
       "      <td>0</td>\n",
       "    </tr>\n",
       "  </tbody>\n",
       "</table>\n",
       "</div>"
      ],
      "text/plain": [
       "    decreased  increased\n",
       "15          0          1\n",
       "16          0          1\n",
       "17          0          1\n",
       "18          1          0\n",
       "19          1          0"
      ]
     },
     "execution_count": 194,
     "metadata": {},
     "output_type": "execute_result"
    }
   ],
   "source": [
    "data_variable_encoding = data[['vwap']].diff().dropna()\n",
    "data_variable_encoding['vwap_hot_encode'] = 'decreased'\n",
    "data_variable_encoding['vwap_hot_encode'][data_variable_encoding['vwap'] == 0] = 'no_change'\n",
    "data_variable_encoding['vwap_hot_encode'][data_variable_encoding['vwap'] > 0] = 'increased'\n",
    "\n",
    "pd.get_dummies(data_variable_encoding['vwap_hot_encode']).head()\n"
   ]
  },
  {
   "cell_type": "markdown",
   "metadata": {},
   "source": [
    "<font color='blue'>\n",
    "** write-up **\n",
    "    \n",
    "> ** One-Hot encoding :** When categorical variables have no ordinal relationship, as there was no natural ordering between categories one-hot encoding will help many machine learning algorithms as these algorithms cannot operate on label data directly. for example like in the above example \"vwap_hot_encode\" where values are labelled - decreased, no change, increased - converting them into numerical will help.\n",
    "\n",
    "<img src=\"https://s3.amazonaws.com/aq-web-library/1.png\" height=\"300\" width=\"600\">\n",
    "Source: https://medium.com/@michaeldelsole/what-is-one-hot-encoding-and-how-to-do-it-f0ae272f1179\n"
   ]
  },
  {
   "cell_type": "markdown",
   "metadata": {},
   "source": [
    "### **4. percentile rankings  **"
   ]
  },
  {
   "cell_type": "code",
   "execution_count": 197,
   "metadata": {},
   "outputs": [
    {
     "data": {
      "text/plain": [
       "14    0.887379\n",
       "15    0.558691\n",
       "16    0.132531\n",
       "17    0.350935\n",
       "18    0.093317\n",
       "Name: volume, dtype: float64"
      ]
     },
     "execution_count": 197,
     "metadata": {},
     "output_type": "execute_result"
    }
   ],
   "source": [
    "data['volume'].rank(pct=True).head()"
   ]
  },
  {
   "cell_type": "markdown",
   "metadata": {},
   "source": [
    "<font color='blue'>\n",
    "** write-up **\n",
    "    \n",
    "> ** percentile rankings :** though less commonly used but very useful in financial data. It defines location of a feature values in a distribution.\n",
    "\n",
    "<img src=\"https://s3.amazonaws.com/aq-web-library/5.png\" height=\"200\" width=\"400\">\n",
    "Source: https://owlcation.com/stem/What-is-Percentile-Rank-How-is-Percentile-Different-From-Percentage\n"
   ]
  },
  {
   "cell_type": "markdown",
   "metadata": {},
   "source": [
    "## Cross-Validation Techniques\n",
    "\n",
    "Cross-validation is a technique that allows us to make more efficient use of the data we have. \n"
   ]
  },
  {
   "cell_type": "markdown",
   "metadata": {},
   "source": [
    "<font color='blue'>\n",
    "** write-up **\n",
    "    \n",
    "** 1. K-fold cross-validation **: \n",
    "> K-fold cross-validation splits the data into K equally sized blocks of data, illustrated in the figure below. Each block of data takes its turn as a validation data and k-1 bloks of data as training data. Averaging over the resulting K loss values gives us our final loss value. \n",
    "\n",
    "<img src=\"https://s3.amazonaws.com/aq-web-library/6.png\" height=\"200\" width=\"400\">\n",
    "\n",
    "\n",
    "source: https://en.wikipedia.org/wiki/Cross-validation_(statistics)\n",
    "\n",
    "\n",
    "** 2. Purged K-FOLD Cross Validation **\n",
    "> Important assumption for k-fold CV is sample is drawn from an IID process. But in financial data the observations cannot be assumed to be drawn from an IID process. So information leakes to test data as it contains some part information present in the training data. So solution to this is to purge from the training data\n",
    "observations whose labels overlapped in time with those in the testing set hence reduces leakage. This process is called as Purged K-FOLD Cross Validation.\n",
    "\n",
    "\n",
    "** 3. Walk forward analysis **: \n",
    "> Walk forward analysisis a method used in financeial trading for determining the best parameters to use in a trading strategy. The trading strategy is trained with in-sample data for a time window in a data series. A small portion of the out-of sample data adjacent to in-sample data is tested. The in-sample time window is shifted forward by the amount of shift which is covered by out-of-sample data whoch is been used for testing, and the process repeated. \n",
    "\n",
    "<img src=\"https://s3.amazonaws.com/aq-web-library/8.png\" height=\"200\" width=\"400\">\n",
    "\n",
    "\n",
    "source: https://www.backtestmarket.com/en/blog/post/what-is-walk-forward-analysis-and-which-are-the-good-practices-while-backtesting\n"
   ]
  },
  {
   "cell_type": "code",
   "execution_count": null,
   "metadata": {},
   "outputs": [],
   "source": []
  },
  {
   "cell_type": "code",
   "execution_count": null,
   "metadata": {},
   "outputs": [],
   "source": []
  }
 ],
 "metadata": {
  "kernelspec": {
   "display_name": "Python 3",
   "language": "python",
   "name": "python3"
  },
  "language_info": {
   "codemirror_mode": {
    "name": "ipython",
    "version": 3
   },
   "file_extension": ".py",
   "mimetype": "text/x-python",
   "name": "python",
   "nbconvert_exporter": "python",
   "pygments_lexer": "ipython3",
   "version": "3.6.0"
  }
 },
 "nbformat": 4,
 "nbformat_minor": 2
}
